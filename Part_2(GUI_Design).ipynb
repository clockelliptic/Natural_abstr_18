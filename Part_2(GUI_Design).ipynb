{
 "cells": [
  {
   "cell_type": "markdown",
   "metadata": {},
   "source": [
    "# PyQT5 Graphs and GUIs"
   ]
  },
  {
   "cell_type": "markdown",
   "metadata": {},
   "source": [
    "Here is an extremely basic example. It conntains a button, a text box, a list widget, and an empty plot."
   ]
  },
  {
   "cell_type": "code",
   "execution_count": null,
   "metadata": {},
   "outputs": [],
   "source": [
    "from PyQt5 import QtGui  # (the example applies equally well to PySide)\n",
    "import pyqtgraph as pg\n",
    "\n",
    "## Always start by initializing Qt (only once per application)\n",
    "app = QtGui.QApplication([])\n",
    "\n",
    "## Define a top-level widget to hold everything\n",
    "w = QtGui.QWidget()\n",
    "\n",
    "## Create some widgets to be placed inside\n",
    "btn = QtGui.QPushButton('press me')\n",
    "text = QtGui.QLineEdit('enter text')\n",
    "listw = QtGui.QListWidget()\n",
    "plot = pg.PlotWidget()\n",
    "\n",
    "## Create a grid layout to manage the widgets size and position\n",
    "layout = QtGui.QGridLayout()\n",
    "w.setLayout(layout)\n",
    "\n",
    "## Add widgets to the layout in their proper positions\n",
    "layout.addWidget(btn, 0, 0)   # button goes in upper-left\n",
    "layout.addWidget(text, 1, 0)   # text edit goes in middle-left\n",
    "layout.addWidget(listw, 2, 0)  # list widget goes in bottom-left\n",
    "layout.addWidget(plot, 0, 1, 3, 1)  # plot goes on right side, spanning 3 rows\n",
    "\n",
    "## Display the widget as a new window\n",
    "w.show()\n",
    "\n",
    "## Start the Qt event loop\n",
    "app.exec_()"
   ]
  },
  {
   "cell_type": "markdown",
   "metadata": {},
   "source": [
    "## Official Examples"
   ]
  },
  {
   "cell_type": "markdown",
   "metadata": {},
   "source": [
    "Run the cell below. A GUI will be opened."
   ]
  },
  {
   "cell_type": "code",
   "execution_count": null,
   "metadata": {},
   "outputs": [],
   "source": [
    "import pyqtgraph.examples\n",
    "pyqtgraph.examples.run()"
   ]
  },
  {
   "cell_type": "markdown",
   "metadata": {},
   "source": [
    "# How to use PyQtGraph"
   ]
  },
  {
   "cell_type": "code",
   "execution_count": null,
   "metadata": {},
   "outputs": [],
   "source": [
    "%gui qt5\n",
    "\n",
    "\n",
    "from pyqtgraph.Qt import QtCore, QtGui\n",
    "import pyqtgraph.opengl as gl\n",
    "import pyqtgraph as pg\n",
    "import numpy as np\n",
    "\n",
    "\n",
    "# Open plot window:\n",
    "app = QtGui.QApplication([])\n",
    "w = gl.GLViewWidget()\n",
    "w.opts['distance'] = 40\n",
    "w.show()\n",
    "w.setWindowTitle('pyqtgraph example: GLLinePlotItem')\n",
    "\n",
    "\n",
    "# Add grid:\n",
    "gx = gl.GLGridItem()\n",
    "gx.rotate(90, 0, 1, 0)\n",
    "gx.translate(-10, 0, 0)\n",
    "w.addItem(gx)\n",
    "gy = gl.GLGridItem()\n",
    "gy.rotate(90, 1, 0, 0)\n",
    "gy.translate(0, -10, 0)\n",
    "w.addItem(gy)\n",
    "gz = gl.GLGridItem()\n",
    "gz.translate(0, 0, -10)\n",
    "w.addItem(gz)\n",
    "\n",
    "\n",
    "#def fn(x, y):\n",
    "#    return np.cos((x**2 + y**2)**0.5)\n",
    "\n",
    "\n",
    "n = 51\n",
    "y = np.linspace(-10,10,n)\n",
    "x = np.linspace(-10,10,100)\n",
    "for i in range(n):\n",
    "    yi = np.array([y[i]]*100)\n",
    "    d = (x**2 + yi**2)**0.5\n",
    "    z = 10 * np.cos(d) / (d+1)\n",
    "    pts = np.vstack([x,yi,z]).transpose()\n",
    "    plt = gl.GLLinePlotItem(pos=pts, color=pg.glColor((i,n*10)), \n",
    "                            mode='line_strip', width=1.5, antialias=True)\n",
    "    w.addItem(plt)"
   ]
  },
  {
   "cell_type": "markdown",
   "metadata": {},
   "source": [
    "# Python List Comprehension\n",
    "\n"
   ]
  },
  {
   "cell_type": "code",
   "execution_count": null,
   "metadata": {},
   "outputs": [],
   "source": []
  }
 ],
 "metadata": {
  "kernelspec": {
   "display_name": "Python 3",
   "language": "python",
   "name": "python3"
  },
  "language_info": {
   "codemirror_mode": {
    "name": "ipython",
    "version": 3
   },
   "file_extension": ".py",
   "mimetype": "text/x-python",
   "name": "python",
   "nbconvert_exporter": "python",
   "pygments_lexer": "ipython3",
   "version": "3.7.0"
  },
  "toc": {
   "base_numbering": 1,
   "nav_menu": {},
   "number_sections": true,
   "sideBar": true,
   "skip_h1_title": false,
   "title_cell": "Table of Contents",
   "title_sidebar": "Contents",
   "toc_cell": false,
   "toc_position": {},
   "toc_section_display": true,
   "toc_window_display": false
  }
 },
 "nbformat": 4,
 "nbformat_minor": 2
}
